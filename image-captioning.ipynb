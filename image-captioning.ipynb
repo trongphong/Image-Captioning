{
 "cells": [
  {
   "cell_type": "code",
   "execution_count": null,
   "metadata": {
    "_cell_guid": "b1076dfc-b9ad-4769-8c92-a6c4dae69d19",
    "_uuid": "8f2839f25d086af736a60e9eeb907d3b93b6e0e5",
    "execution": {
     "iopub.execute_input": "2024-11-06T15:57:21.579651Z",
     "iopub.status.busy": "2024-11-06T15:57:21.579134Z",
     "iopub.status.idle": "2024-11-06T15:57:21.585266Z",
     "shell.execute_reply": "2024-11-06T15:57:21.584111Z",
     "shell.execute_reply.started": "2024-11-06T15:57:21.579612Z"
    },
    "trusted": true
   },
   "outputs": [],
   "source": [
    "# This Python 3 environment comes with many helpful analytics libraries installed\n",
    "# It is defined by the kaggle/python Docker image: https://github.com/kaggle/docker-python\n",
    "# For example, here's several helpful packages to load\n",
    "\n",
    "import numpy as np # linear algebra\n",
    "import pandas as pd # data processing, CSV file I/O (e.g. pd.read_csv)\n",
    "\n",
    "# Input data files are available in the read-only \"../input/\" directory\n",
    "# For example, running this (by clicking run or pressing Shift+Enter) will list all files under the input directory\n",
    "\n",
    "import os\n",
    "#for dirname, _, filenames in os.walk('/kaggle/input'):\n",
    " #   for filename in filenames:\n",
    "  #      print(os.path.join(dirname, filename))\n",
    "\n",
    "# You can write up to 20GB to the current directory (/kaggle/working/) that gets preserved as output when you create a version using \"Save & Run All\" \n",
    "# You can also write temporary files to /kaggle/temp/, but they won't be saved outside of the current session"
   ]
  },
  {
   "cell_type": "code",
   "execution_count": null,
   "metadata": {
    "execution": {
     "iopub.execute_input": "2024-11-06T15:57:25.227648Z",
     "iopub.status.busy": "2024-11-06T15:57:25.227271Z",
     "iopub.status.idle": "2024-11-06T15:57:29.957698Z",
     "shell.execute_reply": "2024-11-06T15:57:29.956748Z",
     "shell.execute_reply.started": "2024-11-06T15:57:25.227610Z"
    },
    "trusted": true
   },
   "outputs": [],
   "source": [
    "from collections import Counter \n",
    "import torchvision\n",
    "from torchvision import transforms\n",
    "from PIL import Image\n",
    "from torch.utils.data import Dataset, DataLoader\n",
    "import torch\n",
    "import torch.nn as nn\n",
    "import matplotlib.pyplot as plt\n",
    "import os"
   ]
  },
  {
   "cell_type": "code",
   "execution_count": null,
   "metadata": {
    "execution": {
     "iopub.execute_input": "2024-11-06T15:57:35.614347Z",
     "iopub.status.busy": "2024-11-06T15:57:35.613825Z",
     "iopub.status.idle": "2024-11-06T15:57:35.651082Z",
     "shell.execute_reply": "2024-11-06T15:57:35.650186Z",
     "shell.execute_reply.started": "2024-11-06T15:57:35.614291Z"
    },
    "trusted": true
   },
   "outputs": [],
   "source": [
    "device = torch.device(\"cuda:0\" if torch.cuda.is_available() else \"cpu\")\n",
    "device"
   ]
  },
  {
   "cell_type": "markdown",
   "metadata": {},
   "source": [
    "### Text cleaning"
   ]
  },
  {
   "cell_type": "code",
   "execution_count": null,
   "metadata": {
    "execution": {
     "iopub.execute_input": "2024-11-06T15:58:04.017571Z",
     "iopub.status.busy": "2024-11-06T15:58:04.017186Z",
     "iopub.status.idle": "2024-11-06T15:58:05.809375Z",
     "shell.execute_reply": "2024-11-06T15:58:05.808395Z",
     "shell.execute_reply.started": "2024-11-06T15:58:04.017534Z"
    },
    "trusted": true
   },
   "outputs": [],
   "source": [
    "import nltk\n",
    "import string\n",
    "nltk.download('stopwords')\n",
    "nltk.download('punkt')\n",
    "nltk.download('wordnet')\n",
    "from nltk.stem import PorterStemmer\n",
    "from nltk.stem import WordNetLemmatizer\n",
    "from nltk.corpus import stopwords"
   ]
  },
  {
   "cell_type": "code",
   "execution_count": null,
   "metadata": {
    "execution": {
     "iopub.execute_input": "2024-11-06T15:58:05.811918Z",
     "iopub.status.busy": "2024-11-06T15:58:05.811245Z",
     "iopub.status.idle": "2024-11-06T15:58:05.817058Z",
     "shell.execute_reply": "2024-11-06T15:58:05.816171Z",
     "shell.execute_reply.started": "2024-11-06T15:58:05.811868Z"
    },
    "trusted": true
   },
   "outputs": [],
   "source": [
    "#lower word\n",
    "def lower_text(text):\n",
    "    return str(text).lower()"
   ]
  },
  {
   "cell_type": "code",
   "execution_count": null,
   "metadata": {
    "execution": {
     "iopub.execute_input": "2024-11-06T15:58:07.275620Z",
     "iopub.status.busy": "2024-11-06T15:58:07.275219Z",
     "iopub.status.idle": "2024-11-06T15:58:07.280539Z",
     "shell.execute_reply": "2024-11-06T15:58:07.279619Z",
     "shell.execute_reply.started": "2024-11-06T15:58:07.275580Z"
    },
    "trusted": true
   },
   "outputs": [],
   "source": [
    "#Puntuations\n",
    "remove=string.punctuation\n",
    "def remove_text(text):\n",
    "    text=' '.join(w for w in text.split() if w not in remove)\n",
    "    return text    "
   ]
  },
  {
   "cell_type": "code",
   "execution_count": null,
   "metadata": {
    "execution": {
     "iopub.execute_input": "2024-11-06T15:58:08.647538Z",
     "iopub.status.busy": "2024-11-06T15:58:08.647073Z",
     "iopub.status.idle": "2024-11-06T15:58:08.655912Z",
     "shell.execute_reply": "2024-11-06T15:58:08.654990Z",
     "shell.execute_reply.started": "2024-11-06T15:58:08.647486Z"
    },
    "trusted": true
   },
   "outputs": [],
   "source": [
    "nltk.download('stopwords')\n",
    "stopwords_eng = stopwords.words('english') \n",
    "#remove stopwords\n",
    "def stop_words(text):\n",
    "    text=' '.join(w for w in text.split() if w not in stopwords_eng)\n",
    "    return text"
   ]
  },
  {
   "cell_type": "code",
   "execution_count": null,
   "metadata": {
    "execution": {
     "iopub.execute_input": "2024-11-06T15:58:10.771494Z",
     "iopub.status.busy": "2024-11-06T15:58:10.770757Z",
     "iopub.status.idle": "2024-11-06T15:58:10.776291Z",
     "shell.execute_reply": "2024-11-06T15:58:10.775228Z",
     "shell.execute_reply.started": "2024-11-06T15:58:10.771453Z"
    },
    "trusted": true
   },
   "outputs": [],
   "source": [
    "#Stemming\n",
    "stemmer = PorterStemmer()\n",
    "def stem_words(text):\n",
    "    text=' '.join(stemmer.stem(word) for word in text.split())\n",
    "    return text"
   ]
  },
  {
   "cell_type": "code",
   "execution_count": null,
   "metadata": {
    "execution": {
     "iopub.execute_input": "2024-11-06T15:58:11.725211Z",
     "iopub.status.busy": "2024-11-06T15:58:11.724326Z",
     "iopub.status.idle": "2024-11-06T15:58:11.731869Z",
     "shell.execute_reply": "2024-11-06T15:58:11.730830Z",
     "shell.execute_reply.started": "2024-11-06T15:58:11.725172Z"
    },
    "trusted": true
   },
   "outputs": [],
   "source": [
    "#Lemmatization\n",
    "nltk.download('wordnet')\n",
    "from nltk.stem import WordNetLemmatizer\n",
    "lemmatizer = WordNetLemmatizer()\n",
    "def lemmatize_words(text):\n",
    "    text=' '.join(lemmatizer.lemmatize(word) for word in text.split())\n",
    "    return text"
   ]
  },
  {
   "cell_type": "code",
   "execution_count": null,
   "metadata": {
    "execution": {
     "iopub.execute_input": "2024-11-06T15:58:12.937010Z",
     "iopub.status.busy": "2024-11-06T15:58:12.936625Z",
     "iopub.status.idle": "2024-11-06T15:58:12.942530Z",
     "shell.execute_reply": "2024-11-06T15:58:12.941527Z",
     "shell.execute_reply.started": "2024-11-06T15:58:12.936973Z"
    },
    "trusted": true
   },
   "outputs": [],
   "source": [
    "def text_cleaning(text):\n",
    "    text=lower_text(text)\n",
    "    text=remove_text(text)\n",
    "    #text=stop_words(text)\n",
    "    #text=stem_words(text)\n",
    "    #text=lemmatize_words(text)\n",
    "    return text\n",
    "def list_cleaning(list_text):\n",
    "    for i in range(len(list_text)):\n",
    "        list_text[i]=text_cleaning(list_text[i])\n",
    "    return list_text"
   ]
  },
  {
   "cell_type": "markdown",
   "metadata": {},
   "source": [
    "### Text files"
   ]
  },
  {
   "cell_type": "code",
   "execution_count": null,
   "metadata": {
    "execution": {
     "iopub.execute_input": "2024-11-06T15:58:15.542428Z",
     "iopub.status.busy": "2024-11-06T15:58:15.541538Z",
     "iopub.status.idle": "2024-11-06T15:58:15.552442Z",
     "shell.execute_reply": "2024-11-06T15:58:15.551571Z",
     "shell.execute_reply.started": "2024-11-06T15:58:15.542385Z"
    },
    "trusted": true
   },
   "outputs": [],
   "source": [
    "path='/kaggle/input/flickr8k/'\n",
    "os.listdir(path)"
   ]
  },
  {
   "cell_type": "code",
   "execution_count": null,
   "metadata": {
    "execution": {
     "iopub.execute_input": "2024-11-06T15:58:16.838478Z",
     "iopub.status.busy": "2024-11-06T15:58:16.837818Z",
     "iopub.status.idle": "2024-11-06T15:58:16.842500Z",
     "shell.execute_reply": "2024-11-06T15:58:16.841571Z",
     "shell.execute_reply.started": "2024-11-06T15:58:16.838438Z"
    },
    "trusted": true
   },
   "outputs": [],
   "source": [
    "#paths \n",
    "img_path='/kaggle/input/flickr8k/Flickr8k_Dataset/'\n",
    "text_path='/kaggle/input/flickr8k/Flickr8k_text/'"
   ]
  },
  {
   "cell_type": "code",
   "execution_count": null,
   "metadata": {
    "execution": {
     "iopub.execute_input": "2024-11-06T15:58:17.790380Z",
     "iopub.status.busy": "2024-11-06T15:58:17.789476Z",
     "iopub.status.idle": "2024-11-06T15:58:18.175913Z",
     "shell.execute_reply": "2024-11-06T15:58:18.175142Z",
     "shell.execute_reply.started": "2024-11-06T15:58:17.790337Z"
    },
    "trusted": true
   },
   "outputs": [],
   "source": [
    "#List of files\n",
    "img_files=os.listdir(img_path)\n",
    "text_files=os.listdir(text_path)"
   ]
  },
  {
   "cell_type": "code",
   "execution_count": null,
   "metadata": {
    "execution": {
     "iopub.execute_input": "2024-11-06T15:58:19.993712Z",
     "iopub.status.busy": "2024-11-06T15:58:19.993342Z",
     "iopub.status.idle": "2024-11-06T15:58:19.998429Z",
     "shell.execute_reply": "2024-11-06T15:58:19.997444Z",
     "shell.execute_reply.started": "2024-11-06T15:58:19.993677Z"
    },
    "trusted": true
   },
   "outputs": [],
   "source": [
    "#Open text files\n",
    "def open_file(path):\n",
    "    file=open(path,'r')\n",
    "    text=file.read()\n",
    "    text=text.split('\\n')\n",
    "    return text"
   ]
  },
  {
   "cell_type": "code",
   "execution_count": null,
   "metadata": {
    "execution": {
     "iopub.execute_input": "2024-11-06T15:58:20.991369Z",
     "iopub.status.busy": "2024-11-06T15:58:20.990631Z",
     "iopub.status.idle": "2024-11-06T15:58:21.036125Z",
     "shell.execute_reply": "2024-11-06T15:58:21.035174Z",
     "shell.execute_reply.started": "2024-11-06T15:58:20.991328Z"
    },
    "trusted": true
   },
   "outputs": [],
   "source": [
    "cap_lem=open_file(text_path+text_files[3])\n",
    "len(cap_lem)"
   ]
  },
  {
   "cell_type": "markdown",
   "metadata": {},
   "source": [
    "Training text"
   ]
  },
  {
   "cell_type": "code",
   "execution_count": null,
   "metadata": {
    "execution": {
     "iopub.execute_input": "2024-11-06T15:58:24.010893Z",
     "iopub.status.busy": "2024-11-06T15:58:24.010027Z",
     "iopub.status.idle": "2024-11-06T15:58:24.021542Z",
     "shell.execute_reply": "2024-11-06T15:58:24.020475Z",
     "shell.execute_reply.started": "2024-11-06T15:58:24.010838Z"
    },
    "trusted": true
   },
   "outputs": [],
   "source": [
    "train_files=open_file(text_path+text_files[6])\n",
    "train_files=train_files[:-1]"
   ]
  },
  {
   "cell_type": "code",
   "execution_count": null,
   "metadata": {
    "execution": {
     "iopub.execute_input": "2024-11-06T15:58:24.967775Z",
     "iopub.status.busy": "2024-11-06T15:58:24.967391Z",
     "iopub.status.idle": "2024-11-06T15:58:24.980357Z",
     "shell.execute_reply": "2024-11-06T15:58:24.979350Z",
     "shell.execute_reply.started": "2024-11-06T15:58:24.967730Z"
    },
    "trusted": true
   },
   "outputs": [],
   "source": [
    "dev_files=open_file(text_path+text_files[2])\n",
    "dev_files=dev_files[:-1]\n",
    "train_files=train_files+dev_files\n",
    "len(train_files)"
   ]
  },
  {
   "cell_type": "markdown",
   "metadata": {},
   "source": [
    "Validation text"
   ]
  },
  {
   "cell_type": "code",
   "execution_count": null,
   "metadata": {
    "execution": {
     "iopub.execute_input": "2024-11-06T15:58:27.614719Z",
     "iopub.status.busy": "2024-11-06T15:58:27.613819Z",
     "iopub.status.idle": "2024-11-06T15:58:27.625444Z",
     "shell.execute_reply": "2024-11-06T15:58:27.624552Z",
     "shell.execute_reply.started": "2024-11-06T15:58:27.614677Z"
    },
    "trusted": true
   },
   "outputs": [],
   "source": [
    "val_files=open_file(text_path+text_files[4])\n",
    "val_files=val_files[:-1]\n",
    "len(val_files)"
   ]
  },
  {
   "cell_type": "markdown",
   "metadata": {},
   "source": [
    "Description of captions"
   ]
  },
  {
   "cell_type": "code",
   "execution_count": null,
   "metadata": {
    "execution": {
     "iopub.execute_input": "2024-11-06T15:58:29.664311Z",
     "iopub.status.busy": "2024-11-06T15:58:29.663535Z",
     "iopub.status.idle": "2024-11-06T15:58:29.731791Z",
     "shell.execute_reply": "2024-11-06T15:58:29.730808Z",
     "shell.execute_reply.started": "2024-11-06T15:58:29.664269Z"
    },
    "trusted": true
   },
   "outputs": [],
   "source": [
    "desc={}\n",
    "for i in range(len(cap_lem)-1):\n",
    "    img, caption=cap_lem[i].split('\\t')\n",
    "    if img[:-2] not in desc:\n",
    "        desc[img[:-2]]=[caption[:-2]]\n",
    "    else:\n",
    "        desc[img[:-2]].append(caption[:-2])"
   ]
  },
  {
   "cell_type": "code",
   "execution_count": null,
   "metadata": {
    "execution": {
     "iopub.execute_input": "2024-11-06T15:58:30.462527Z",
     "iopub.status.busy": "2024-11-06T15:58:30.461842Z",
     "iopub.status.idle": "2024-11-06T15:58:30.468414Z",
     "shell.execute_reply": "2024-11-06T15:58:30.467448Z",
     "shell.execute_reply.started": "2024-11-06T15:58:30.462482Z"
    },
    "trusted": true
   },
   "outputs": [],
   "source": [
    "desc[img_files[1]]"
   ]
  },
  {
   "cell_type": "code",
   "execution_count": null,
   "metadata": {
    "execution": {
     "iopub.execute_input": "2024-11-06T15:58:31.704959Z",
     "iopub.status.busy": "2024-11-06T15:58:31.704086Z",
     "iopub.status.idle": "2024-11-06T15:58:31.874689Z",
     "shell.execute_reply": "2024-11-06T15:58:31.873757Z",
     "shell.execute_reply.started": "2024-11-06T15:58:31.704918Z"
    },
    "trusted": true
   },
   "outputs": [],
   "source": [
    "for key in desc.keys():\n",
    "    desc[key]=list_cleaning(desc[key])"
   ]
  },
  {
   "cell_type": "code",
   "execution_count": null,
   "metadata": {
    "execution": {
     "iopub.execute_input": "2024-11-06T15:58:32.718761Z",
     "iopub.status.busy": "2024-11-06T15:58:32.717876Z",
     "iopub.status.idle": "2024-11-06T15:58:32.724657Z",
     "shell.execute_reply": "2024-11-06T15:58:32.723764Z",
     "shell.execute_reply.started": "2024-11-06T15:58:32.718719Z"
    },
    "trusted": true
   },
   "outputs": [],
   "source": [
    "desc[img_files[1]]"
   ]
  },
  {
   "cell_type": "markdown",
   "metadata": {},
   "source": [
    "Tokenization"
   ]
  },
  {
   "cell_type": "code",
   "execution_count": null,
   "metadata": {
    "execution": {
     "iopub.execute_input": "2024-11-06T15:58:34.408854Z",
     "iopub.status.busy": "2024-11-06T15:58:34.408034Z",
     "iopub.status.idle": "2024-11-06T15:58:34.413141Z",
     "shell.execute_reply": "2024-11-06T15:58:34.412006Z",
     "shell.execute_reply.started": "2024-11-06T15:58:34.408812Z"
    },
    "trusted": true
   },
   "outputs": [],
   "source": [
    "from nltk.tokenize import word_tokenize"
   ]
  },
  {
   "cell_type": "code",
   "execution_count": null,
   "metadata": {
    "execution": {
     "iopub.execute_input": "2024-11-06T15:58:35.812770Z",
     "iopub.status.busy": "2024-11-06T15:58:35.812036Z",
     "iopub.status.idle": "2024-11-06T15:58:41.653049Z",
     "shell.execute_reply": "2024-11-06T15:58:41.652044Z",
     "shell.execute_reply.started": "2024-11-06T15:58:35.812726Z"
    },
    "trusted": true
   },
   "outputs": [],
   "source": [
    "vocab=set()\n",
    "for key in desc.keys():\n",
    "    for i in range(len(desc[key])):\n",
    "        vocab.update(word_tokenize(desc[key][i]))  "
   ]
  },
  {
   "cell_type": "code",
   "execution_count": null,
   "metadata": {
    "execution": {
     "iopub.execute_input": "2024-11-06T15:58:41.655439Z",
     "iopub.status.busy": "2024-11-06T15:58:41.655033Z",
     "iopub.status.idle": "2024-11-06T15:58:41.664491Z",
     "shell.execute_reply": "2024-11-06T15:58:41.663530Z",
     "shell.execute_reply.started": "2024-11-06T15:58:41.655395Z"
    },
    "trusted": true
   },
   "outputs": [],
   "source": [
    "idx_to_word={idx+3: word for idx, word in enumerate(vocab)}\n",
    "word_to_idx={word: idx+3 for idx, word in enumerate(vocab)}    "
   ]
  },
  {
   "cell_type": "code",
   "execution_count": null,
   "metadata": {
    "execution": {
     "iopub.execute_input": "2024-11-06T15:58:41.666131Z",
     "iopub.status.busy": "2024-11-06T15:58:41.665714Z",
     "iopub.status.idle": "2024-11-06T15:58:41.676112Z",
     "shell.execute_reply": "2024-11-06T15:58:41.675340Z",
     "shell.execute_reply.started": "2024-11-06T15:58:41.666074Z"
    },
    "trusted": true
   },
   "outputs": [],
   "source": [
    "idx_to_word[0]='UNK'\n",
    "word_to_idx['UNK']=0"
   ]
  },
  {
   "cell_type": "code",
   "execution_count": null,
   "metadata": {
    "execution": {
     "iopub.execute_input": "2024-11-06T15:58:41.677913Z",
     "iopub.status.busy": "2024-11-06T15:58:41.677615Z",
     "iopub.status.idle": "2024-11-06T15:58:41.689784Z",
     "shell.execute_reply": "2024-11-06T15:58:41.688988Z",
     "shell.execute_reply.started": "2024-11-06T15:58:41.677881Z"
    },
    "trusted": true
   },
   "outputs": [],
   "source": [
    "sos_token=1\n",
    "eos_token=2\n",
    "vocab.update({'SOS', 'EOS'})\n",
    "word_to_idx['SOS']=sos_token\n",
    "word_to_idx['EOS']=eos_token\n",
    "idx_to_word[sos_token]='SOS'\n",
    "idx_to_word[eos_token]='EOS'\n",
    "vocab_size=len(vocab)+1\n",
    "vocab_size"
   ]
  },
  {
   "cell_type": "markdown",
   "metadata": {},
   "source": [
    "Padding"
   ]
  },
  {
   "cell_type": "code",
   "execution_count": null,
   "metadata": {
    "execution": {
     "iopub.execute_input": "2024-11-06T15:58:42.176909Z",
     "iopub.status.busy": "2024-11-06T15:58:42.176541Z",
     "iopub.status.idle": "2024-11-06T15:58:42.182151Z",
     "shell.execute_reply": "2024-11-06T15:58:42.181178Z",
     "shell.execute_reply.started": "2024-11-06T15:58:42.176871Z"
    },
    "trusted": true
   },
   "outputs": [],
   "source": [
    "#from torch.nn.utils.rnn import pad_sequence\n",
    "#padding\n",
    "def padded(x,n):\n",
    "    pad=np.zeros(n)\n",
    "    pad[0]=1\n",
    "    pad[len(x)+1]=2\n",
    "    pad[1:len(x)+1]=x\n",
    "    return pad"
   ]
  },
  {
   "cell_type": "code",
   "execution_count": null,
   "metadata": {
    "execution": {
     "iopub.execute_input": "2024-11-06T15:58:43.097524Z",
     "iopub.status.busy": "2024-11-06T15:58:43.097148Z",
     "iopub.status.idle": "2024-11-06T15:58:44.326836Z",
     "shell.execute_reply": "2024-11-06T15:58:44.325862Z",
     "shell.execute_reply.started": "2024-11-06T15:58:43.097486Z"
    },
    "trusted": true
   },
   "outputs": [],
   "source": [
    "desc_short={}\n",
    "for key in desc.keys():\n",
    "    desc_short[key]=[word_to_idx[w] for w in word_tokenize(desc[key][0])]  \n",
    "    desc_short[key]=padded(desc_short[key],35)"
   ]
  },
  {
   "cell_type": "code",
   "execution_count": null,
   "metadata": {
    "execution": {
     "iopub.execute_input": "2024-11-06T15:58:44.328820Z",
     "iopub.status.busy": "2024-11-06T15:58:44.328499Z",
     "iopub.status.idle": "2024-11-06T15:58:44.336982Z",
     "shell.execute_reply": "2024-11-06T15:58:44.336114Z",
     "shell.execute_reply.started": "2024-11-06T15:58:44.328785Z"
    },
    "trusted": true
   },
   "outputs": [],
   "source": [
    "max_length=max(len(desc_short[w]) for w in desc_short.keys())\n",
    "max_length"
   ]
  },
  {
   "cell_type": "markdown",
   "metadata": {},
   "source": [
    "Dataset"
   ]
  },
  {
   "cell_type": "code",
   "execution_count": null,
   "metadata": {
    "execution": {
     "iopub.execute_input": "2024-11-06T15:58:47.109970Z",
     "iopub.status.busy": "2024-11-06T15:58:47.109582Z",
     "iopub.status.idle": "2024-11-06T15:58:47.114329Z",
     "shell.execute_reply": "2024-11-06T15:58:47.113281Z",
     "shell.execute_reply.started": "2024-11-06T15:58:47.109931Z"
    },
    "trusted": true
   },
   "outputs": [],
   "source": [
    "from torchvision import transforms\n",
    "from torch.utils.data import Dataset, DataLoader, TensorDataset"
   ]
  },
  {
   "cell_type": "code",
   "execution_count": null,
   "metadata": {
    "execution": {
     "iopub.execute_input": "2024-11-06T15:58:48.112848Z",
     "iopub.status.busy": "2024-11-06T15:58:48.111954Z",
     "iopub.status.idle": "2024-11-06T15:58:48.117909Z",
     "shell.execute_reply": "2024-11-06T15:58:48.116923Z",
     "shell.execute_reply.started": "2024-11-06T15:58:48.112803Z"
    },
    "trusted": true
   },
   "outputs": [],
   "source": [
    "transform=transforms.Compose([\n",
    "    transforms.Resize((224,224)),\n",
    "    transforms.ToTensor(),\n",
    "    transforms.Normalize(mean=[0.485, 0.456, 0.406], std=[0.229, 0.224, 0.225])\n",
    "])"
   ]
  },
  {
   "cell_type": "code",
   "execution_count": null,
   "metadata": {
    "execution": {
     "iopub.execute_input": "2024-11-06T15:58:50.354301Z",
     "iopub.status.busy": "2024-11-06T15:58:50.353443Z",
     "iopub.status.idle": "2024-11-06T15:58:50.360232Z",
     "shell.execute_reply": "2024-11-06T15:58:50.359303Z",
     "shell.execute_reply.started": "2024-11-06T15:58:50.354255Z"
    },
    "trusted": true
   },
   "outputs": [],
   "source": [
    "class img_dataset(Dataset):\n",
    "    def __init__(self, files, path, transform):\n",
    "        self.path=path\n",
    "        self.transform=transform\n",
    "        self.files=files\n",
    "    def __len__(self):\n",
    "        return len(self.files)\n",
    "    def __getitem__(self, idx):\n",
    "        img_id=self.files[idx]\n",
    "        cap=desc_short[img_id]\n",
    "        img=Image.open(self.path+img_id)\n",
    "        img=self.transform(img)\n",
    "        return img, cap, img_id    "
   ]
  },
  {
   "cell_type": "code",
   "execution_count": null,
   "metadata": {
    "execution": {
     "iopub.execute_input": "2024-11-06T15:58:51.600775Z",
     "iopub.status.busy": "2024-11-06T15:58:51.600412Z",
     "iopub.status.idle": "2024-11-06T15:58:51.605410Z",
     "shell.execute_reply": "2024-11-06T15:58:51.604504Z",
     "shell.execute_reply.started": "2024-11-06T15:58:51.600740Z"
    },
    "trusted": true
   },
   "outputs": [],
   "source": [
    "data_train=img_dataset(train_files, img_path, transform)\n",
    "data_loader=DataLoader(data_train, batch_size=32)"
   ]
  },
  {
   "cell_type": "code",
   "execution_count": null,
   "metadata": {
    "execution": {
     "iopub.execute_input": "2024-11-06T15:58:52.884003Z",
     "iopub.status.busy": "2024-11-06T15:58:52.883629Z",
     "iopub.status.idle": "2024-11-06T15:58:53.296893Z",
     "shell.execute_reply": "2024-11-06T15:58:53.296060Z",
     "shell.execute_reply.started": "2024-11-06T15:58:52.883966Z"
    },
    "trusted": true
   },
   "outputs": [],
   "source": [
    "for _, (x,y,z) in enumerate(data_train):\n",
    "    print(y)\n",
    "    print(desc[z][0])\n",
    "    plt.imshow(np.transpose(x.numpy()))\n",
    "    break"
   ]
  },
  {
   "cell_type": "code",
   "execution_count": null,
   "metadata": {
    "execution": {
     "iopub.execute_input": "2024-11-06T15:58:54.653657Z",
     "iopub.status.busy": "2024-11-06T15:58:54.653268Z",
     "iopub.status.idle": "2024-11-06T15:58:55.122309Z",
     "shell.execute_reply": "2024-11-06T15:58:55.121322Z",
     "shell.execute_reply.started": "2024-11-06T15:58:54.653620Z"
    },
    "trusted": true
   },
   "outputs": [],
   "source": [
    "for _, (x,y,z) in enumerate(data_loader):\n",
    "    print(y.shape)\n",
    "    print(len(z))\n",
    "    print(x.shape)\n",
    "    break"
   ]
  },
  {
   "cell_type": "markdown",
   "metadata": {},
   "source": [
    "Test dataset"
   ]
  },
  {
   "cell_type": "code",
   "execution_count": null,
   "metadata": {
    "execution": {
     "iopub.execute_input": "2024-11-06T15:59:46.892648Z",
     "iopub.status.busy": "2024-11-06T15:59:46.892282Z",
     "iopub.status.idle": "2024-11-06T15:59:46.897455Z",
     "shell.execute_reply": "2024-11-06T15:59:46.896407Z",
     "shell.execute_reply.started": "2024-11-06T15:59:46.892614Z"
    },
    "trusted": true
   },
   "outputs": [],
   "source": [
    "data_val=img_dataset(val_files, img_path, transform)\n",
    "val_loader=DataLoader(data_val, batch_size=32)"
   ]
  },
  {
   "cell_type": "code",
   "execution_count": null,
   "metadata": {
    "execution": {
     "iopub.execute_input": "2024-11-06T15:59:47.759268Z",
     "iopub.status.busy": "2024-11-06T15:59:47.758593Z",
     "iopub.status.idle": "2024-11-06T15:59:48.266723Z",
     "shell.execute_reply": "2024-11-06T15:59:48.265752Z",
     "shell.execute_reply.started": "2024-11-06T15:59:47.759226Z"
    },
    "trusted": true
   },
   "outputs": [],
   "source": [
    "for i, (x,y,z) in enumerate(val_loader):\n",
    "    print(i)\n",
    "    print(y.shape)\n",
    "    print(len(z))\n",
    "    print(x.shape)\n",
    "    break"
   ]
  },
  {
   "cell_type": "markdown",
   "metadata": {},
   "source": [
    "### Encoder model"
   ]
  },
  {
   "cell_type": "code",
   "execution_count": null,
   "metadata": {
    "execution": {
     "iopub.execute_input": "2024-11-06T15:59:56.076933Z",
     "iopub.status.busy": "2024-11-06T15:59:56.076248Z",
     "iopub.status.idle": "2024-11-06T15:59:56.081025Z",
     "shell.execute_reply": "2024-11-06T15:59:56.080163Z",
     "shell.execute_reply.started": "2024-11-06T15:59:56.076890Z"
    },
    "trusted": true
   },
   "outputs": [],
   "source": [
    "from torchvision.models import resnet50"
   ]
  },
  {
   "cell_type": "code",
   "execution_count": null,
   "metadata": {
    "execution": {
     "iopub.execute_input": "2024-11-06T15:59:58.916851Z",
     "iopub.status.busy": "2024-11-06T15:59:58.915937Z",
     "iopub.status.idle": "2024-11-06T15:59:58.922903Z",
     "shell.execute_reply": "2024-11-06T15:59:58.922008Z",
     "shell.execute_reply.started": "2024-11-06T15:59:58.916808Z"
    },
    "trusted": true
   },
   "outputs": [],
   "source": [
    "class EncoderCNN(nn.Module):\n",
    "    def __init__(self):\n",
    "        super(EncoderCNN, self).__init__()\n",
    "        self.resnet = resnet50(pretrained=True)\n",
    "        for param in self.resnet.parameters():\n",
    "            param.requires_grad_(False)\n",
    "        self.relu = nn.ReLU()\n",
    "    def forward(self, images):\n",
    "        features = self.resnet(images)\n",
    "        return self.relu(features)"
   ]
  },
  {
   "cell_type": "code",
   "execution_count": null,
   "metadata": {
    "execution": {
     "iopub.execute_input": "2024-11-06T16:00:25.020056Z",
     "iopub.status.busy": "2024-11-06T16:00:25.019633Z",
     "iopub.status.idle": "2024-11-06T16:00:25.573832Z",
     "shell.execute_reply": "2024-11-06T16:00:25.572871Z",
     "shell.execute_reply.started": "2024-11-06T16:00:25.020016Z"
    },
    "trusted": true
   },
   "outputs": [],
   "source": [
    "ecd=EncoderCNN().to(device)\n",
    "x_out=ecd(x[:1,:,:,:].to(device))\n",
    "x_out.shape"
   ]
  },
  {
   "cell_type": "markdown",
   "metadata": {},
   "source": [
    "### Decoder"
   ]
  },
  {
   "cell_type": "code",
   "execution_count": null,
   "metadata": {
    "execution": {
     "iopub.execute_input": "2024-11-06T16:00:38.397405Z",
     "iopub.status.busy": "2024-11-06T16:00:38.397013Z",
     "iopub.status.idle": "2024-11-06T16:00:38.409377Z",
     "shell.execute_reply": "2024-11-06T16:00:38.408202Z",
     "shell.execute_reply.started": "2024-11-06T16:00:38.397368Z"
    },
    "trusted": true
   },
   "outputs": [],
   "source": [
    "class DecoderRNN(nn.Module):\n",
    "    def __init__(self, vocab_size=vocab_size, emb_size=100, hidden_size=256, feature_size=1000):\n",
    "        super(DecoderRNN, self).__init__()\n",
    "        self.linear1=nn.Linear(feature_size, hidden_size)\n",
    "        self.embed = nn.Embedding(vocab_size, emb_size)\n",
    "        self.lstm = nn.LSTM(emb_size+hidden_size, hidden_size, batch_first=True)\n",
    "        self.linear2 = nn.Linear(hidden_size, vocab_size)\n",
    "        self.relu=nn.ReLU()\n",
    "        #self.softmax=nn.Softmax()\n",
    "    def forward(self, encoder_outputs, target=None):\n",
    "        encoder_outputs=self.linear1(encoder_outputs)\n",
    "        batch_size=encoder_outputs.size(0)\n",
    "        decoder_input=torch.ones(batch_size, 1, dtype=torch.long)\n",
    "        decoder_hidden=(encoder_outputs.unsqueeze(0), encoder_outputs.unsqueeze(0))\n",
    "        decoder_outputs=[]\n",
    "        for i in range(max_length):\n",
    "            decoder_emb=self.embed(decoder_input.to(device))\n",
    "            decoder_emb=self.relu(decoder_emb)\n",
    "            lstm_input=torch.cat((decoder_emb, encoder_outputs.unsqueeze(1)), dim=2)\n",
    "            decoder_output, decoder_hidden= self.lstm(lstm_input, decoder_hidden)\n",
    "            decoder_output=self.relu(decoder_output)\n",
    "            decoder_output=self.linear2(decoder_output)\n",
    "            decoder_outputs.append(decoder_output)#.squeeze(1))\n",
    "            if target is not None:\n",
    "                decoder_input=target[:,i].unsqueeze(1).to(torch.long)\n",
    "            else:\n",
    "                _, dcd_input=decoder_output.topk(1)\n",
    "                decoder_input=dcd_input.squeeze(-1).detach()\n",
    "        decoder_outputs=torch.cat(decoder_outputs, dim=1)\n",
    "        decoder_output=nn.functional.log_softmax(decoder_output, dim=-1)\n",
    "        return decoder_outputs   "
   ]
  },
  {
   "cell_type": "code",
   "execution_count": null,
   "metadata": {
    "execution": {
     "iopub.execute_input": "2024-11-06T16:00:39.589680Z",
     "iopub.status.busy": "2024-11-06T16:00:39.589294Z",
     "iopub.status.idle": "2024-11-06T16:00:39.788274Z",
     "shell.execute_reply": "2024-11-06T16:00:39.787295Z",
     "shell.execute_reply.started": "2024-11-06T16:00:39.589643Z"
    },
    "trusted": true
   },
   "outputs": [],
   "source": [
    "dcd=DecoderRNN().to(device)\n",
    "x_out_dcd=dcd(x_out)\n",
    "x_out_dcd.shape"
   ]
  },
  {
   "cell_type": "markdown",
   "metadata": {},
   "source": [
    "### Training"
   ]
  },
  {
   "cell_type": "code",
   "execution_count": null,
   "metadata": {},
   "outputs": [],
   "source": [
    "encoder=EncoderCNN().to(device)\n",
    "decoder=DecoderRNN().to(device)\n",
    "criterion=nn.CrossEntropyLoss()\n",
    "opt=torch.optim.Adam(decoder.parameters(), lr=0.005)"
   ]
  },
  {
   "cell_type": "code",
   "execution_count": null,
   "metadata": {
    "execution": {
     "iopub.execute_input": "2024-11-06T16:00:45.511893Z",
     "iopub.status.busy": "2024-11-06T16:00:45.510942Z",
     "iopub.status.idle": "2024-11-06T16:00:45.519849Z",
     "shell.execute_reply": "2024-11-06T16:00:45.518714Z",
     "shell.execute_reply.started": "2024-11-06T16:00:45.511848Z"
    },
    "trusted": true
   },
   "outputs": [],
   "source": [
    "def training(encoder, decoder, data, n_epochs):\n",
    "    Loss=[]\n",
    "    for epoch in range(n_epochs):\n",
    "        loss_train=0\n",
    "        for i,(img,cap,img_id) in enumerate(data):\n",
    "            encoder_output=encoder(img.to(device))\n",
    "            cap=cap.to(device)\n",
    "            #zero gradient\n",
    "            opt.zero_grad()\n",
    "            #forward\n",
    "            decoder_out=decoder(encoder_output, cap)\n",
    "            loss=criterion(decoder_out.view(-1, decoder_out.size(-1)),\n",
    "                       cap.view(-1).to(torch.int64))#.to(torch.float)\n",
    "            #backward \n",
    "            loss.backward()\n",
    "            #update\n",
    "            opt.step()\n",
    "            loss_train+=loss.item()\n",
    "        Loss.append(loss_train/len(data))\n",
    "        if epoch%10==0:\n",
    "            print(f'Epoch: {epoch}, Loss: {loss_train/len(data)}')   \n",
    "    return Loss"
   ]
  },
  {
   "cell_type": "code",
   "execution_count": null,
   "metadata": {
    "execution": {
     "iopub.execute_input": "2024-11-05T21:19:08.012638Z",
     "iopub.status.busy": "2024-11-05T21:19:08.011776Z",
     "iopub.status.idle": "2024-11-05T23:11:34.985731Z",
     "shell.execute_reply": "2024-11-05T23:11:34.984742Z",
     "shell.execute_reply.started": "2024-11-05T21:19:08.012595Z"
    },
    "trusted": true
   },
   "outputs": [],
   "source": [
    "Loss=training(encoder, decoder, data_loader, 101)"
   ]
  },
  {
   "cell_type": "code",
   "execution_count": null,
   "metadata": {
    "execution": {
     "iopub.execute_input": "2024-11-05T23:11:50.868067Z",
     "iopub.status.busy": "2024-11-05T23:11:50.867663Z",
     "iopub.status.idle": "2024-11-05T23:11:51.211137Z",
     "shell.execute_reply": "2024-11-05T23:11:51.210236Z",
     "shell.execute_reply.started": "2024-11-05T23:11:50.868029Z"
    },
    "trusted": true
   },
   "outputs": [],
   "source": [
    "import seaborn as sns\n",
    "sns.set()\n",
    "plt.plot(Loss)"
   ]
  },
  {
   "cell_type": "code",
   "execution_count": null,
   "metadata": {
    "execution": {
     "iopub.execute_input": "2024-11-05T23:12:01.721764Z",
     "iopub.status.busy": "2024-11-05T23:12:01.721387Z",
     "iopub.status.idle": "2024-11-05T23:12:01.729411Z",
     "shell.execute_reply": "2024-11-05T23:12:01.728413Z",
     "shell.execute_reply.started": "2024-11-05T23:12:01.721729Z"
    },
    "trusted": true
   },
   "outputs": [],
   "source": [
    "def val_file(ecd, dcd, img_file):\n",
    "    ecd.eval()\n",
    "    dcd.eval()\n",
    "    with torch.no_grad():\n",
    "        img=Image.open(img_path+img_file)\n",
    "        img=transform(img)\n",
    "        img=img.unsqueeze(dim=0)\n",
    "        encoder_output=ecd(img.to(device))\n",
    "        decoder_outputs=dcd(encoder_output)\n",
    "        _, word_idx=decoder_outputs.topk(1)\n",
    "        decoder_idx=word_idx.squeeze()\n",
    "        cap=[]\n",
    "        for idx  in decoder_idx:\n",
    "            if idx.item()==eos_token:\n",
    "                cap.append('EOS')\n",
    "                break\n",
    "            else:\n",
    "                cap.append(idx_to_word[idx.item()])\n",
    "        caption=' '.join(cap[1:-1])\n",
    "    return caption"
   ]
  },
  {
   "cell_type": "code",
   "execution_count": null,
   "metadata": {
    "execution": {
     "iopub.execute_input": "2024-11-05T23:14:37.739117Z",
     "iopub.status.busy": "2024-11-05T23:14:37.738723Z",
     "iopub.status.idle": "2024-11-05T23:14:38.301750Z",
     "shell.execute_reply": "2024-11-05T23:14:38.300836Z",
     "shell.execute_reply.started": "2024-11-05T23:14:37.739076Z"
    },
    "trusted": true
   },
   "outputs": [],
   "source": [
    "n=torch.randint(0,1000,(1,))\n",
    "caption_val=val_file(encoder, decoder, val_files[n])\n",
    "plt.imshow(plt.imread(img_path+val_files[n]))\n",
    "plt.title(caption_val)\n",
    "print(desc[val_files[n]][0])"
   ]
  },
  {
   "cell_type": "markdown",
   "metadata": {},
   "source": [
    "### With Badauran Attention model"
   ]
  },
  {
   "cell_type": "markdown",
   "metadata": {},
   "source": [
    "Encoder"
   ]
  },
  {
   "cell_type": "code",
   "execution_count": null,
   "metadata": {
    "trusted": true
   },
   "outputs": [],
   "source": [
    "from torchvision.models import resnet50"
   ]
  },
  {
   "cell_type": "code",
   "execution_count": null,
   "metadata": {
    "execution": {
     "iopub.execute_input": "2024-11-06T16:01:01.856464Z",
     "iopub.status.busy": "2024-11-06T16:01:01.856059Z",
     "iopub.status.idle": "2024-11-06T16:01:01.863438Z",
     "shell.execute_reply": "2024-11-06T16:01:01.862295Z",
     "shell.execute_reply.started": "2024-11-06T16:01:01.856425Z"
    },
    "trusted": true
   },
   "outputs": [],
   "source": [
    "class EncoderAttention(nn.Module):\n",
    "    def __init__(self):\n",
    "        super(EncoderAttention, self).__init__()\n",
    "        resnet = resnet50(pretrained=True)\n",
    "        self.resnet=nn.Sequential(*list(resnet.children())[:-2])\n",
    "        self.relu = nn.ReLU()\n",
    "    def forward(self, images):\n",
    "        features = self.resnet(images)\n",
    "        features=self.relu(features)\n",
    "        features=features.view(features.size(0), 2048,-1)\n",
    "        features=features.permute(0,2,1)\n",
    "        return features"
   ]
  },
  {
   "cell_type": "code",
   "execution_count": null,
   "metadata": {
    "execution": {
     "iopub.execute_input": "2024-11-06T16:01:09.131391Z",
     "iopub.status.busy": "2024-11-06T16:01:09.130873Z",
     "iopub.status.idle": "2024-11-06T16:01:09.138789Z",
     "shell.execute_reply": "2024-11-06T16:01:09.137855Z",
     "shell.execute_reply.started": "2024-11-06T16:01:09.131348Z"
    },
    "trusted": true
   },
   "outputs": [],
   "source": [
    "class BahdanauAttention(nn.Module):\n",
    "    def __init__(self, hidden_size=256, attention_dim=64):\n",
    "        super(BahdanauAttention, self).__init__()\n",
    "        self.Ua=nn.Linear(hidden_size, attention_dim)\n",
    "        self.Wa=nn.Linear(hidden_size, attention_dim)\n",
    "        self.Va=nn.Linear(attention_dim,1)\n",
    "    def forward(self, decoder_hidden, encoder_hidden):\n",
    "        sum1=self.Ua(decoder_hidden)\n",
    "        sum2=self.Wa(encoder_hidden)\n",
    "        scores=self.Va(torch.tanh(sum1+sum2))\n",
    "        scores=scores.squeeze(2).unsqueeze(1)\n",
    "        weights=nn.functional.softmax(scores,dim=-1)\n",
    "        context=torch.bmm(weights, encoder_hidden)\n",
    "        return context       "
   ]
  },
  {
   "cell_type": "code",
   "execution_count": null,
   "metadata": {
    "execution": {
     "iopub.execute_input": "2024-11-06T16:01:53.822205Z",
     "iopub.status.busy": "2024-11-06T16:01:53.821810Z",
     "iopub.status.idle": "2024-11-06T16:01:53.834666Z",
     "shell.execute_reply": "2024-11-06T16:01:53.833693Z",
     "shell.execute_reply.started": "2024-11-06T16:01:53.822165Z"
    },
    "trusted": true
   },
   "outputs": [],
   "source": [
    "class DecoderAttention(nn.Module):\n",
    "    def __init__(self, vocab_size=vocab_size, feature_size=2048, emb_size=100, hidden_size=256):\n",
    "        super(DecoderAttention, self).__init__()\n",
    "        self.linear1 = nn.Linear(feature_size, hidden_size)\n",
    "        self.embed = nn.Embedding(vocab_size, emb_size)\n",
    "        self.attention=BahdanauAttention()\n",
    "        self.lstm = nn.LSTM(emb_size+hidden_size,hidden_size, batch_first=True)\n",
    "        self.linear2 = nn.Linear(hidden_size, vocab_size)\n",
    "        self.relu=nn.ReLU()\n",
    "        #self.softmax=nn.Softmax()\n",
    "    def forward(self, encoder_outputs, target=None):\n",
    "        encoder_outputs=self.linear1(encoder_outputs)#batch_size, pixed, hidden_size \n",
    "        batch_size=encoder_outputs.size(0)\n",
    "        decoder_input=torch.ones(batch_size, 1, dtype=torch.long)\n",
    "        decoder_hidden=encoder_outputs.mean(dim=1).unsqueeze(dim=0)# 1, batchsize, hidden_size\n",
    "        decoder_cell=encoder_outputs.mean(dim=1).unsqueeze(dim=0)# 1, batch_size, hidden_size\n",
    "        decoder_outputs=[]\n",
    "        for i in range(max_length):\n",
    "            decoder_emb=self.embed(decoder_input.to(device))\n",
    "            decoder_emb=self.relu(decoder_emb) # batch_size,1, emb_size\n",
    "            hidden_att=decoder_hidden.permute(1,0,2)## batch_size,1, emb_size\n",
    "            context=self.attention(hidden_att, encoder_outputs) # batch_size, 1, hidden_size\n",
    "            input_lstm=torch.cat((decoder_emb, context), dim=2)\n",
    "            decoder_output, (decoder_hidden, decoder_cell)= self.lstm(input_lstm, (decoder_hidden, decoder_cell))\n",
    "            decoder_output=self.relu(decoder_output)\n",
    "            decoder_output=self.linear2(decoder_output)\n",
    "            decoder_outputs.append(decoder_output)#.squeeze(1))\n",
    "            if target is not None:\n",
    "                decoder_input=target[:,i].unsqueeze(1).to(torch.long)\n",
    "            else:\n",
    "                _, dcd_input=decoder_output.topk(1)\n",
    "                decoder_input=dcd_input.squeeze(-1).detach()\n",
    "        decoder_outputs=torch.cat(decoder_outputs, dim=1)\n",
    "        decoder_output=nn.functional.log_softmax(decoder_output, dim=-1)\n",
    "        return decoder_outputs   "
   ]
  },
  {
   "cell_type": "markdown",
   "metadata": {},
   "source": [
    "### Training attention model"
   ]
  },
  {
   "cell_type": "code",
   "execution_count": null,
   "metadata": {
    "execution": {
     "iopub.execute_input": "2024-11-06T16:02:42.609762Z",
     "iopub.status.busy": "2024-11-06T16:02:42.608782Z",
     "iopub.status.idle": "2024-11-06T16:02:43.142481Z",
     "shell.execute_reply": "2024-11-06T16:02:43.141439Z",
     "shell.execute_reply.started": "2024-11-06T16:02:42.609718Z"
    },
    "trusted": true
   },
   "outputs": [],
   "source": [
    "encoder_att=EncoderAttention().to(device)\n",
    "decoder_att=DecoderAttention().to(device)\n",
    "criterion=nn.CrossEntropyLoss()\n",
    "opt=torch.optim.Adam(decoder_att.parameters())"
   ]
  },
  {
   "cell_type": "code",
   "execution_count": null,
   "metadata": {
    "execution": {
     "iopub.execute_input": "2024-11-06T16:02:47.709918Z",
     "iopub.status.busy": "2024-11-06T16:02:47.709019Z",
     "iopub.status.idle": "2024-11-06T18:45:08.366565Z",
     "shell.execute_reply": "2024-11-06T18:45:08.365481Z",
     "shell.execute_reply.started": "2024-11-06T16:02:47.709875Z"
    },
    "trusted": true
   },
   "outputs": [],
   "source": [
    "LossAtt=training(encoder_att, decoder_att, data_loader, 101)"
   ]
  },
  {
   "cell_type": "code",
   "execution_count": null,
   "metadata": {
    "execution": {
     "iopub.execute_input": "2024-11-06T18:45:41.385655Z",
     "iopub.status.busy": "2024-11-06T18:45:41.384784Z",
     "iopub.status.idle": "2024-11-06T18:45:42.096739Z",
     "shell.execute_reply": "2024-11-06T18:45:42.095799Z",
     "shell.execute_reply.started": "2024-11-06T18:45:41.385606Z"
    },
    "trusted": true
   },
   "outputs": [],
   "source": [
    "import seaborn as sns\n",
    "sns.set()\n",
    "plt.plot(LossAtt)"
   ]
  },
  {
   "cell_type": "code",
   "execution_count": null,
   "metadata": {
    "execution": {
     "iopub.execute_input": "2024-11-06T18:46:35.709821Z",
     "iopub.status.busy": "2024-11-06T18:46:35.708962Z",
     "iopub.status.idle": "2024-11-06T18:46:35.717111Z",
     "shell.execute_reply": "2024-11-06T18:46:35.715974Z",
     "shell.execute_reply.started": "2024-11-06T18:46:35.709780Z"
    },
    "trusted": true
   },
   "outputs": [],
   "source": [
    "def val_file(ecd, dcd, img_file):\n",
    "    ecd.eval()\n",
    "    dcd.eval()\n",
    "    with torch.no_grad():\n",
    "        img=Image.open(img_path+img_file)\n",
    "        img=transform(img)\n",
    "        img=img.unsqueeze(dim=0)\n",
    "        encoder_output=ecd(img.to(device))\n",
    "        decoder_outputs=dcd(encoder_output)\n",
    "        _, word_idx=decoder_outputs.topk(1)\n",
    "        decoder_idx=word_idx.squeeze()\n",
    "        cap=[]\n",
    "        for idx  in decoder_idx:\n",
    "            if idx.item()==eos_token:\n",
    "                cap.append('EOS')\n",
    "                break\n",
    "            else:\n",
    "                cap.append(idx_to_word[idx.item()])\n",
    "        caption=' '.join(cap[1:-1])\n",
    "    return caption"
   ]
  },
  {
   "cell_type": "code",
   "execution_count": null,
   "metadata": {
    "execution": {
     "iopub.execute_input": "2024-11-06T18:49:17.088681Z",
     "iopub.status.busy": "2024-11-06T18:49:17.087941Z",
     "iopub.status.idle": "2024-11-06T18:49:17.578634Z",
     "shell.execute_reply": "2024-11-06T18:49:17.577455Z",
     "shell.execute_reply.started": "2024-11-06T18:49:17.088639Z"
    },
    "trusted": true
   },
   "outputs": [],
   "source": [
    "n=torch.randint(0,1000,(1,))\n",
    "caption_val=val_file(encoder_att, decoder_att, val_files[n])\n",
    "plt.imshow(plt.imread(img_path+val_files[n]))\n",
    "plt.title(caption_val)"
   ]
  }
 ],
 "metadata": {
  "kaggle": {
   "accelerator": "none",
   "dataSources": [
    {
     "datasetId": 1162937,
     "sourceId": 1949071,
     "sourceType": "datasetVersion"
    }
   ],
   "dockerImageVersionId": 30786,
   "isGpuEnabled": false,
   "isInternetEnabled": true,
   "language": "python",
   "sourceType": "notebook"
  },
  "kernelspec": {
   "display_name": "Python 3",
   "language": "python",
   "name": "python3"
  },
  "language_info": {
   "codemirror_mode": {
    "name": "ipython",
    "version": 3
   },
   "file_extension": ".py",
   "mimetype": "text/x-python",
   "name": "python",
   "nbconvert_exporter": "python",
   "pygments_lexer": "ipython3",
   "version": "3.10.14"
  }
 },
 "nbformat": 4,
 "nbformat_minor": 4
}
